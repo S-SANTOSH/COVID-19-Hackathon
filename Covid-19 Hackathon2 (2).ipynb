{
 "cells": [
  {
   "cell_type": "markdown",
   "metadata": {},
   "source": [
    "# Covid-19 Hackathon \n",
    "## Importing Libraries\n",
    "we have loaded only packages like numpy , pandas and matplotlib. Numpy for array,Pandas for Data frame and matplotlib for Data visualization"
   ]
  },
  {
   "cell_type": "code",
   "execution_count": 1,
   "metadata": {},
   "outputs": [
    {
     "name": "stderr",
     "output_type": "stream",
     "text": [
      "/Users/santoshsaxena/opt/anaconda3/lib/python3.7/importlib/_bootstrap.py:219: RuntimeWarning: numpy.ufunc size changed, may indicate binary incompatibility. Expected 192 from C header, got 216 from PyObject\n",
      "  return f(*args, **kwds)\n"
     ]
    }
   ],
   "source": [
    "import numpy as np\n",
    "import pandas as pd\n",
    "import matplotlib.pyplot as plt\n",
    "import matplotlib.gridspec as gridspec"
   ]
  },
  {
   "cell_type": "markdown",
   "metadata": {},
   "source": [
    "## Loading the Processed dataset"
   ]
  },
  {
   "cell_type": "code",
   "execution_count": 2,
   "metadata": {},
   "outputs": [],
   "source": [
    "country = pd.read_csv(\"Desktop/Covid-19.csv/countrywise cases.csv\")\n",
    "state = pd.read_csv(\"Desktop/Covid-19.csv/state wise cases.csv\")\n",
    "total = pd.read_csv(\"Desktop/Covid-19.csv/statewise total case.csv\")\n",
    "code = pd.read_csv(\"Desktop/Covid-19.csv/state name with code.csv\")"
   ]
  },
  {
   "cell_type": "code",
   "execution_count": 3,
   "metadata": {},
   "outputs": [
    {
     "data": {
      "text/html": [
       "<div>\n",
       "<style scoped>\n",
       "    .dataframe tbody tr th:only-of-type {\n",
       "        vertical-align: middle;\n",
       "    }\n",
       "\n",
       "    .dataframe tbody tr th {\n",
       "        vertical-align: top;\n",
       "    }\n",
       "\n",
       "    .dataframe thead th {\n",
       "        text-align: right;\n",
       "    }\n",
       "</style>\n",
       "<table border=\"1\" class=\"dataframe\">\n",
       "  <thead>\n",
       "    <tr style=\"text-align: right;\">\n",
       "      <th></th>\n",
       "      <th>Date</th>\n",
       "      <th>Daily Confirmed</th>\n",
       "      <th>Total Confirmed</th>\n",
       "      <th>Daily Recovered</th>\n",
       "      <th>Total Recovered</th>\n",
       "      <th>Daily Deceased</th>\n",
       "      <th>Total Deceased</th>\n",
       "    </tr>\n",
       "  </thead>\n",
       "  <tbody>\n",
       "    <tr>\n",
       "      <th>0</th>\n",
       "      <td>30 January</td>\n",
       "      <td>1</td>\n",
       "      <td>1</td>\n",
       "      <td>0</td>\n",
       "      <td>0</td>\n",
       "      <td>0</td>\n",
       "      <td>0</td>\n",
       "    </tr>\n",
       "    <tr>\n",
       "      <th>1</th>\n",
       "      <td>31 January</td>\n",
       "      <td>0</td>\n",
       "      <td>1</td>\n",
       "      <td>0</td>\n",
       "      <td>0</td>\n",
       "      <td>0</td>\n",
       "      <td>0</td>\n",
       "    </tr>\n",
       "    <tr>\n",
       "      <th>2</th>\n",
       "      <td>01 February</td>\n",
       "      <td>0</td>\n",
       "      <td>1</td>\n",
       "      <td>0</td>\n",
       "      <td>0</td>\n",
       "      <td>0</td>\n",
       "      <td>0</td>\n",
       "    </tr>\n",
       "    <tr>\n",
       "      <th>3</th>\n",
       "      <td>02 February</td>\n",
       "      <td>1</td>\n",
       "      <td>2</td>\n",
       "      <td>0</td>\n",
       "      <td>0</td>\n",
       "      <td>0</td>\n",
       "      <td>0</td>\n",
       "    </tr>\n",
       "    <tr>\n",
       "      <th>4</th>\n",
       "      <td>03 February</td>\n",
       "      <td>1</td>\n",
       "      <td>3</td>\n",
       "      <td>0</td>\n",
       "      <td>0</td>\n",
       "      <td>0</td>\n",
       "      <td>0</td>\n",
       "    </tr>\n",
       "  </tbody>\n",
       "</table>\n",
       "</div>"
      ],
      "text/plain": [
       "          Date  Daily Confirmed  Total Confirmed  Daily Recovered  \\\n",
       "0   30 January                1                1                0   \n",
       "1   31 January                0                1                0   \n",
       "2  01 February                0                1                0   \n",
       "3  02 February                1                2                0   \n",
       "4  03 February                1                3                0   \n",
       "\n",
       "   Total Recovered  Daily Deceased  Total Deceased  \n",
       "0                0               0               0  \n",
       "1                0               0               0  \n",
       "2                0               0               0  \n",
       "3                0               0               0  \n",
       "4                0               0               0  "
      ]
     },
     "execution_count": 3,
     "metadata": {},
     "output_type": "execute_result"
    }
   ],
   "source": [
    "country.head()"
   ]
  },
  {
   "cell_type": "code",
   "execution_count": 4,
   "metadata": {},
   "outputs": [
    {
     "data": {
      "text/html": [
       "<div>\n",
       "<style scoped>\n",
       "    .dataframe tbody tr th:only-of-type {\n",
       "        vertical-align: middle;\n",
       "    }\n",
       "\n",
       "    .dataframe tbody tr th {\n",
       "        vertical-align: top;\n",
       "    }\n",
       "\n",
       "    .dataframe thead th {\n",
       "        text-align: right;\n",
       "    }\n",
       "</style>\n",
       "<table border=\"1\" class=\"dataframe\">\n",
       "  <thead>\n",
       "    <tr style=\"text-align: right;\">\n",
       "      <th></th>\n",
       "      <th>Date</th>\n",
       "      <th>Status</th>\n",
       "      <th>TT</th>\n",
       "      <th>AN</th>\n",
       "      <th>AP</th>\n",
       "      <th>AR</th>\n",
       "      <th>AS</th>\n",
       "      <th>BR</th>\n",
       "      <th>CH</th>\n",
       "      <th>CT</th>\n",
       "      <th>...</th>\n",
       "      <th>PY</th>\n",
       "      <th>PB</th>\n",
       "      <th>RJ</th>\n",
       "      <th>SK</th>\n",
       "      <th>TN</th>\n",
       "      <th>TG</th>\n",
       "      <th>TR</th>\n",
       "      <th>UP</th>\n",
       "      <th>UT</th>\n",
       "      <th>WB</th>\n",
       "    </tr>\n",
       "  </thead>\n",
       "  <tbody>\n",
       "    <tr>\n",
       "      <th>0</th>\n",
       "      <td>14-Mar-20</td>\n",
       "      <td>Confirmed</td>\n",
       "      <td>79</td>\n",
       "      <td>0</td>\n",
       "      <td>1.0</td>\n",
       "      <td>0</td>\n",
       "      <td>0</td>\n",
       "      <td>0</td>\n",
       "      <td>0</td>\n",
       "      <td>0</td>\n",
       "      <td>...</td>\n",
       "      <td>0</td>\n",
       "      <td>1</td>\n",
       "      <td>3</td>\n",
       "      <td>0</td>\n",
       "      <td>1</td>\n",
       "      <td>1</td>\n",
       "      <td>0</td>\n",
       "      <td>12</td>\n",
       "      <td>0</td>\n",
       "      <td>0</td>\n",
       "    </tr>\n",
       "    <tr>\n",
       "      <th>1</th>\n",
       "      <td>14-Mar-20</td>\n",
       "      <td>Recovered</td>\n",
       "      <td>9</td>\n",
       "      <td>0</td>\n",
       "      <td>0.0</td>\n",
       "      <td>0</td>\n",
       "      <td>0</td>\n",
       "      <td>0</td>\n",
       "      <td>0</td>\n",
       "      <td>0</td>\n",
       "      <td>...</td>\n",
       "      <td>0</td>\n",
       "      <td>0</td>\n",
       "      <td>1</td>\n",
       "      <td>0</td>\n",
       "      <td>0</td>\n",
       "      <td>0</td>\n",
       "      <td>0</td>\n",
       "      <td>4</td>\n",
       "      <td>0</td>\n",
       "      <td>0</td>\n",
       "    </tr>\n",
       "    <tr>\n",
       "      <th>2</th>\n",
       "      <td>14-Mar-20</td>\n",
       "      <td>Deceased</td>\n",
       "      <td>2</td>\n",
       "      <td>0</td>\n",
       "      <td>0.0</td>\n",
       "      <td>0</td>\n",
       "      <td>0</td>\n",
       "      <td>0</td>\n",
       "      <td>0</td>\n",
       "      <td>0</td>\n",
       "      <td>...</td>\n",
       "      <td>0</td>\n",
       "      <td>0</td>\n",
       "      <td>0</td>\n",
       "      <td>0</td>\n",
       "      <td>0</td>\n",
       "      <td>0</td>\n",
       "      <td>0</td>\n",
       "      <td>0</td>\n",
       "      <td>0</td>\n",
       "      <td>0</td>\n",
       "    </tr>\n",
       "    <tr>\n",
       "      <th>3</th>\n",
       "      <td>15-Mar-20</td>\n",
       "      <td>Confirmed</td>\n",
       "      <td>28</td>\n",
       "      <td>0</td>\n",
       "      <td>0.0</td>\n",
       "      <td>0</td>\n",
       "      <td>0</td>\n",
       "      <td>0</td>\n",
       "      <td>0</td>\n",
       "      <td>0</td>\n",
       "      <td>...</td>\n",
       "      <td>0</td>\n",
       "      <td>0</td>\n",
       "      <td>1</td>\n",
       "      <td>0</td>\n",
       "      <td>0</td>\n",
       "      <td>2</td>\n",
       "      <td>0</td>\n",
       "      <td>1</td>\n",
       "      <td>0</td>\n",
       "      <td>0</td>\n",
       "    </tr>\n",
       "    <tr>\n",
       "      <th>4</th>\n",
       "      <td>15-Mar-20</td>\n",
       "      <td>Recovered</td>\n",
       "      <td>4</td>\n",
       "      <td>0</td>\n",
       "      <td>0.0</td>\n",
       "      <td>0</td>\n",
       "      <td>0</td>\n",
       "      <td>0</td>\n",
       "      <td>0</td>\n",
       "      <td>0</td>\n",
       "      <td>...</td>\n",
       "      <td>0</td>\n",
       "      <td>0</td>\n",
       "      <td>2</td>\n",
       "      <td>0</td>\n",
       "      <td>0</td>\n",
       "      <td>1</td>\n",
       "      <td>0</td>\n",
       "      <td>0</td>\n",
       "      <td>0</td>\n",
       "      <td>0</td>\n",
       "    </tr>\n",
       "  </tbody>\n",
       "</table>\n",
       "<p>5 rows × 40 columns</p>\n",
       "</div>"
      ],
      "text/plain": [
       "        Date     Status  TT  AN   AP  AR  AS  BR  CH  CT  ...  PY  PB  RJ  SK  \\\n",
       "0  14-Mar-20  Confirmed  79   0  1.0   0   0   0   0   0  ...   0   1   3   0   \n",
       "1  14-Mar-20  Recovered   9   0  0.0   0   0   0   0   0  ...   0   0   1   0   \n",
       "2  14-Mar-20   Deceased   2   0  0.0   0   0   0   0   0  ...   0   0   0   0   \n",
       "3  15-Mar-20  Confirmed  28   0  0.0   0   0   0   0   0  ...   0   0   1   0   \n",
       "4  15-Mar-20  Recovered   4   0  0.0   0   0   0   0   0  ...   0   0   2   0   \n",
       "\n",
       "   TN  TG  TR  UP  UT  WB  \n",
       "0   1   1   0  12   0   0  \n",
       "1   0   0   0   4   0   0  \n",
       "2   0   0   0   0   0   0  \n",
       "3   0   2   0   1   0   0  \n",
       "4   0   1   0   0   0   0  \n",
       "\n",
       "[5 rows x 40 columns]"
      ]
     },
     "execution_count": 4,
     "metadata": {},
     "output_type": "execute_result"
    }
   ],
   "source": [
    "state.head()"
   ]
  },
  {
   "cell_type": "code",
   "execution_count": 5,
   "metadata": {},
   "outputs": [
    {
     "data": {
      "text/html": [
       "<div>\n",
       "<style scoped>\n",
       "    .dataframe tbody tr th:only-of-type {\n",
       "        vertical-align: middle;\n",
       "    }\n",
       "\n",
       "    .dataframe tbody tr th {\n",
       "        vertical-align: top;\n",
       "    }\n",
       "\n",
       "    .dataframe thead th {\n",
       "        text-align: right;\n",
       "    }\n",
       "</style>\n",
       "<table border=\"1\" class=\"dataframe\">\n",
       "  <thead>\n",
       "    <tr style=\"text-align: right;\">\n",
       "      <th></th>\n",
       "      <th>State</th>\n",
       "      <th>ConfirmeConfirmed</th>\n",
       "      <th>Recovered</th>\n",
       "      <th>Deaths</th>\n",
       "      <th>Active</th>\n",
       "      <th>Last_Updated_Time</th>\n",
       "      <th>State_code</th>\n",
       "      <th>Delta_Confirmed</th>\n",
       "      <th>Delta_Recovered</th>\n",
       "      <th>Delta_Deaths</th>\n",
       "    </tr>\n",
       "  </thead>\n",
       "  <tbody>\n",
       "    <tr>\n",
       "      <th>0</th>\n",
       "      <td>Total</td>\n",
       "      <td>9075</td>\n",
       "      <td>1061</td>\n",
       "      <td>303</td>\n",
       "      <td>7711</td>\n",
       "      <td>12/04/2020 20:30:24</td>\n",
       "      <td>TT</td>\n",
       "      <td>623</td>\n",
       "      <td>89</td>\n",
       "      <td>14</td>\n",
       "    </tr>\n",
       "    <tr>\n",
       "      <th>1</th>\n",
       "      <td>Maharashtra</td>\n",
       "      <td>1895</td>\n",
       "      <td>208</td>\n",
       "      <td>127</td>\n",
       "      <td>1560</td>\n",
       "      <td>12/04/2020 14:35:24</td>\n",
       "      <td>MH</td>\n",
       "      <td>134</td>\n",
       "      <td>0</td>\n",
       "      <td>0</td>\n",
       "    </tr>\n",
       "    <tr>\n",
       "      <th>2</th>\n",
       "      <td>Tamil Nadu</td>\n",
       "      <td>1075</td>\n",
       "      <td>50</td>\n",
       "      <td>11</td>\n",
       "      <td>1014</td>\n",
       "      <td>12/04/2020 18:10:24</td>\n",
       "      <td>TN</td>\n",
       "      <td>106</td>\n",
       "      <td>6</td>\n",
       "      <td>1</td>\n",
       "    </tr>\n",
       "    <tr>\n",
       "      <th>3</th>\n",
       "      <td>Delhi</td>\n",
       "      <td>1154</td>\n",
       "      <td>28</td>\n",
       "      <td>24</td>\n",
       "      <td>1102</td>\n",
       "      <td>12/04/2020 20:30:25</td>\n",
       "      <td>DL</td>\n",
       "      <td>85</td>\n",
       "      <td>1</td>\n",
       "      <td>5</td>\n",
       "    </tr>\n",
       "    <tr>\n",
       "      <th>4</th>\n",
       "      <td>Telangana</td>\n",
       "      <td>503</td>\n",
       "      <td>96</td>\n",
       "      <td>14</td>\n",
       "      <td>393</td>\n",
       "      <td>11/04/2020 22:10:24</td>\n",
       "      <td>TG</td>\n",
       "      <td>0</td>\n",
       "      <td>0</td>\n",
       "      <td>0</td>\n",
       "    </tr>\n",
       "  </tbody>\n",
       "</table>\n",
       "</div>"
      ],
      "text/plain": [
       "         State  ConfirmeConfirmed  Recovered  Deaths  Active  \\\n",
       "0        Total               9075       1061     303    7711   \n",
       "1  Maharashtra               1895        208     127    1560   \n",
       "2   Tamil Nadu               1075         50      11    1014   \n",
       "3        Delhi               1154         28      24    1102   \n",
       "4    Telangana                503         96      14     393   \n",
       "\n",
       "     Last_Updated_Time State_code  Delta_Confirmed  Delta_Recovered  \\\n",
       "0  12/04/2020 20:30:24         TT              623               89   \n",
       "1  12/04/2020 14:35:24         MH              134                0   \n",
       "2  12/04/2020 18:10:24         TN              106                6   \n",
       "3  12/04/2020 20:30:25         DL               85                1   \n",
       "4  11/04/2020 22:10:24         TG                0                0   \n",
       "\n",
       "   Delta_Deaths  \n",
       "0            14  \n",
       "1             0  \n",
       "2             1  \n",
       "3             5  \n",
       "4             0  "
      ]
     },
     "execution_count": 5,
     "metadata": {},
     "output_type": "execute_result"
    }
   ],
   "source": [
    "total.head()"
   ]
  },
  {
   "cell_type": "markdown",
   "metadata": {},
   "source": [
    "# Prediction at National level\n",
    "## Data Visualization"
   ]
  },
  {
   "cell_type": "code",
   "execution_count": 45,
   "metadata": {},
   "outputs": [],
   "source": [
    "India=[[],[],[]]\n",
    "India[0] = list(country[\"Total Confirmed\"])\n",
    "India[1] = list(country[\"Total Recovered\"])\n",
    "India[2] = list(country[\"Total Deceased\"])"
   ]
  },
  {
   "cell_type": "code",
   "execution_count": 46,
   "metadata": {},
   "outputs": [
    {
     "data": {
      "text/plain": [
       "<matplotlib.legend.Legend at 0x1126af410>"
      ]
     },
     "execution_count": 46,
     "metadata": {},
     "output_type": "execute_result"
    },
    {
     "data": {
      "image/png": "[encoded data removed]",
      "text/plain": [
       "<Figure size 432x288 with 1 Axes>"
      ]
     },
     "metadata": {
      "needs_background": "light"
     },
     "output_type": "display_data"
    }
   ],
   "source": [
    "sr=[]\n",
    "for i in range(74):\n",
    "    sr.append(i)\n",
    "plt.plot(sr,India[0] , c= \"blue\",label = \"Confirmed\")\n",
    "plt.plot(sr,India[1] , c= \"green\",label = \"Recovered\")\n",
    "plt.plot(sr,India[2] , c= \"red\",label = \"Deaths\")\n",
    "plt.xlabel(\"Number of days\")\n",
    "plt.ylabel(\"Number of cases\")\n",
    "plt.legend()"
   ]
  },
  {
   "cell_type": "code",
   "execution_count": 47,
   "metadata": {},
   "outputs": [],
   "source": [
    "dif = [[],[],[]]\n",
    "for i in range(len(India[0])-1):\n",
    "    dif[0].append(India[0][i+1] - India[0][i])\n",
    "    dif[1].append(India[1][i+1] - India[1][i])\n",
    "    dif[2].append(India[2][i+1] - India[2][i])"
   ]
  },
  {
   "cell_type": "markdown",
   "metadata": {},
   "source": [
    "### As you can see this graph contains exponential parameter with some peak"
   ]
  },
  {
   "cell_type": "code",
   "execution_count": 49,
   "metadata": {},
   "outputs": [
    {
     "data": {
      "text/plain": [
       "<matplotlib.legend.Legend at 0x112e75350>"
      ]
     },
     "execution_count": 49,
     "metadata": {},
     "output_type": "execute_result"
    },
    {
     "data": {
      "image/png": "[encoded data removed]",
      "text/plain": [
       "<Figure size 432x288 with 1 Axes>"
      ]
     },
     "metadata": {
      "needs_background": "light"
     },
     "output_type": "display_data"
    }
   ],
   "source": [
    "#del(sr[73])\n",
    "plt.plot(sr,dif[0] , c= \"blue\",label = \"Confirmed\")\n",
    "plt.plot(sr,dif[1] , c= \"green\",label = \"Recovered\")\n",
    "plt.plot(sr,dif[2] , c= \"red\",label = \"Deaths\")\n",
    "plt.xlabel(\"Number of days\")\n",
    "plt.ylabel(\"Individual cases\")\n",
    "plt.legend()"
   ]
  },
  {
   "cell_type": "markdown",
   "metadata": {},
   "source": [
    "### Calculation of Stages\n",
    "####we will calculate the stages on digit based classifier because after multipling with conditional probablity\n",
    "####stage1 = 10 , stage2 = 100 , stage3 = 1000 , stage4 = 10000 and so on"
   ]
  },
  {
   "cell_type": "code",
   "execution_count": 41,
   "metadata": {
    "scrolled": true
   },
   "outputs": [
    {
     "data": {
      "text/plain": [
       "[1,\n",
       " 1,\n",
       " 1,\n",
       " 2,\n",
       " 3,\n",
       " 3,\n",
       " 3,\n",
       " 3,\n",
       " 3,\n",
       " 3,\n",
       " 3,\n",
       " 3,\n",
       " 3,\n",
       " 3,\n",
       " 3,\n",
       " 3,\n",
       " 3,\n",
       " 3,\n",
       " 3,\n",
       " 3,\n",
       " 3,\n",
       " 3,\n",
       " 3,\n",
       " 3,\n",
       " 3,\n",
       " 3,\n",
       " 3,\n",
       " 3,\n",
       " 3,\n",
       " 3,\n",
       " 3,\n",
       " 3,\n",
       " 5,\n",
       " 6,\n",
       " 28,\n",
       " 30,\n",
       " 31,\n",
       " 34,\n",
       " 39,\n",
       " 48,\n",
       " 63,\n",
       " 71,\n",
       " 81,\n",
       " 91,\n",
       " 102,\n",
       " 112,\n",
       " 126,\n",
       " 146,\n",
       " 171,\n",
       " 198,\n",
       " 256,\n",
       " 334,\n",
       " 403,\n",
       " 497,\n",
       " 571,\n",
       " 657,\n",
       " 730,\n",
       " 883,\n",
       " 1019,\n",
       " 1139,\n",
       " 1326,\n",
       " 1635,\n",
       " 2059,\n",
       " 2545,\n",
       " 3104,\n",
       " 3683,\n",
       " 4288,\n",
       " 4777,\n",
       " 5350,\n",
       " 5915,\n",
       " 6728,\n",
       " 7599,\n",
       " 8453,\n",
       " 9076]"
      ]
     },
     "execution_count": 41,
     "metadata": {},
     "output_type": "execute_result"
    }
   ],
   "source": [
    "India[0]"
   ]
  },
  {
   "cell_type": "code",
   "execution_count": 51,
   "metadata": {},
   "outputs": [],
   "source": [
    "stage1 = []\n",
    "stage2 = []\n",
    "stage3 = []\n",
    "stage4 = []\n",
    "stage5 = []\n",
    "for i in range(len(India[0])):\n",
    "    if(India[0][i]/10 < 1):\n",
    "        stage1.append(India[0][i])\n",
    "    elif(India[0][i]/10 > 1 and India[0][i]/100 < 1):\n",
    "        stage2.append(India[0][i])\n",
    "    elif(India[0][i]/10 > 1 and India[0][i]/100 >1 and India[0][i]/1000 < 1 ):\n",
    "        stage3.append(India[0][i])\n",
    "    elif(India[0][i]/10 > 1 and India[0][i]/100 >1 and India[0][i]/1000 > 1 and India[0][i]/10000 < 1):\n",
    "        stage4.append(India[0][i])\n",
    "    else:\n",
    "        stage5.append(India[0][i])"
   ]
  },
  {
   "cell_type": "code",
   "execution_count": 57,
   "metadata": {},
   "outputs": [
    {
     "name": "stdout",
     "output_type": "stream",
     "text": [
      "34\n",
      "10\n",
      "14\n",
      "16\n",
      "0\n"
     ]
    }
   ],
   "source": [
    "print(len(stage1))\n",
    "print(len(stage2))\n",
    "print(len(stage3))\n",
    "print(len(stage4))\n",
    "print(len(stage5))"
   ]
  },
  {
   "cell_type": "markdown",
   "metadata": {},
   "source": [
    "#Converting all list with same index"
   ]
  },
  {
   "cell_type": "code",
   "execution_count": 58,
   "metadata": {},
   "outputs": [],
   "source": [
    "def serial(x):\n",
    "    sr=[]\n",
    "    for i in range(x):\n",
    "        sr.append(i)\n",
    "    return sr"
   ]
  },
  {
   "cell_type": "markdown",
   "metadata": {},
   "source": [
    "### Because the least number in the list in 10 hence we need to convert all list into 10\n",
    "### Calculating the parameters on the basis of stages and finding the relation between them"
   ]
  },
  {
   "cell_type": "code",
   "execution_count": 373,
   "metadata": {},
   "outputs": [],
   "source": [
    "parameter = [] # All the important parameter will be stored in this list"
   ]
  },
  {
   "cell_type": "code",
   "execution_count": 400,
   "metadata": {},
   "outputs": [],
   "source": [
    "def Regression(x,y):\n",
    "    ja=[]\n",
    "    p=[]\n",
    "    i=0\n",
    "    while(i<1000):\n",
    "        for j in range(10):\n",
    "            suma = 0.1 * j + i\n",
    "            result = 0\n",
    "            p.append(suma)\n",
    "            for k in range(len(x)):\n",
    "                h = suma*x[k]\n",
    "                temp = y[k] - h\n",
    "                if(temp < 0):\n",
    "                    temp = -1*temp\n",
    "                temp1.append(temp)\n",
    "                result = result + temp\n",
    "                result1.append(result)\n",
    "            ja.append(result)\n",
    "        i = i+1\n",
    "    for i in range(len(ja)):\n",
    "        if(ja[i] == min(ja)):\n",
    "            index = p[i]\n",
    "    ypred = []\n",
    "    for i in range(len(x)):\n",
    "        h = index *x[i]\n",
    "        ypred.append(h)\n",
    "    plt.scatter(x,y,color = \"blue\")\n",
    "    plt.plot(x,ypred , color = \"red\")\n",
    "    plt.xlabel(\"Number of days\")\n",
    "    plt.ylabel(\"Number of Cases\")\n",
    "    return index"
   ]
  },
  {
   "cell_type": "code",
   "execution_count": 375,
   "metadata": {},
   "outputs": [],
   "source": [
    "stage = [stage1,stage2,stage3,stage4]\n",
    "sr = serial(10)"
   ]
  },
  {
   "cell_type": "code",
   "execution_count": 376,
   "metadata": {},
   "outputs": [
    {
     "data": {
      "image/png": "[encoded data removed]",
      "text/plain": [
       "<Figure size 432x288 with 1 Axes>"
      ]
     },
     "metadata": {
      "needs_background": "light"
     },
     "output_type": "display_data"
    }
   ],
   "source": [
    "sr = serial(len(stage[0]))\n",
    "parameter.append(Regression(sr,stage[0]))"
   ]
  },
  {
   "cell_type": "code",
   "execution_count": 377,
   "metadata": {},
   "outputs": [
    {
     "data": {
      "image/png": "[encoded data removed]",
      "text/plain": [
       "<Figure size 432x288 with 1 Axes>"
      ]
     },
     "metadata": {
      "needs_background": "light"
     },
     "output_type": "display_data"
    }
   ],
   "source": [
    "sr = serial(len(stage[1]))\n",
    "parameter.append(Regression(sr,stage[1]))"
   ]
  },
  {
   "cell_type": "code",
   "execution_count": 378,
   "metadata": {},
   "outputs": [
    {
     "data": {
      "image/png": "[encoded data removed]",
      "text/plain": [
       "<Figure size 432x288 with 1 Axes>"
      ]
     },
     "metadata": {
      "needs_background": "light"
     },
     "output_type": "display_data"
    }
   ],
   "source": [
    "sr = serial(len(stage[2]))\n",
    "parameter.append(Regression(sr,stage[2]))"
   ]
  },
  {
   "cell_type": "code",
   "execution_count": 379,
   "metadata": {},
   "outputs": [
    {
     "data": {
      "image/png": "[encoded data removed]",
      "text/plain": [
       "<Figure size 432x288 with 1 Axes>"
      ]
     },
     "metadata": {
      "needs_background": "light"
     },
     "output_type": "display_data"
    }
   ],
   "source": [
    "sr = serial(len(stage[3]))\n",
    "parameter.append(Regression(sr,stage[3]))"
   ]
  },
  {
   "cell_type": "code",
   "execution_count": 380,
   "metadata": {},
   "outputs": [
    {
     "data": {
      "text/plain": [
       "[0.1, 10.1, 57.1, 544.7]"
      ]
     },
     "execution_count": 380,
     "metadata": {},
     "output_type": "execute_result"
    }
   ],
   "source": [
    "parameter"
   ]
  },
  {
   "cell_type": "markdown",
   "metadata": {},
   "source": [
    "### With the help of this parameter we will find the relation between the stages"
   ]
  },
  {
   "cell_type": "code",
   "execution_count": 381,
   "metadata": {},
   "outputs": [],
   "source": [
    "relation = [] # All the coefficients of all stages with respect to stage 1"
   ]
  },
  {
   "cell_type": "code",
   "execution_count": 382,
   "metadata": {},
   "outputs": [],
   "source": [
    "for i in range(4):\n",
    "    relation.append(parameter[i]/parameter[0])"
   ]
  },
  {
   "cell_type": "code",
   "execution_count": 383,
   "metadata": {},
   "outputs": [
    {
     "data": {
      "text/plain": [
       "[1.0, 100.99999999999999, 571.0, 5447.0]"
      ]
     },
     "execution_count": 383,
     "metadata": {},
     "output_type": "execute_result"
    }
   ],
   "source": [
    "relation"
   ]
  },
  {
   "cell_type": "markdown",
   "metadata": {},
   "source": [
    "we achieved the actual parameters of all the stages with respect to stage 1"
   ]
  },
  {
   "cell_type": "code",
   "execution_count": 397,
   "metadata": {},
   "outputs": [
    {
     "data": {
      "text/plain": [
       "[0.1, 10.1, 57.1, 544.7]"
      ]
     },
     "execution_count": 397,
     "metadata": {},
     "output_type": "execute_result"
    }
   ],
   "source": [
    "parameter"
   ]
  },
  {
   "cell_type": "code",
   "execution_count": 398,
   "metadata": {},
   "outputs": [
    {
     "data": {
      "text/plain": [
       "74"
      ]
     },
     "execution_count": 398,
     "metadata": {},
     "output_type": "execute_result"
    }
   ],
   "source": [
    "len(India[0])"
   ]
  },
  {
   "cell_type": "markdown",
   "metadata": {},
   "source": [
    "That is Why i not found the values all at one. Hence sklearn is not used because i want multiple coeffiecients of different stages"
   ]
  },
  {
   "cell_type": "code",
   "execution_count": 401,
   "metadata": {
    "scrolled": true
   },
   "outputs": [
    {
     "data": {
      "text/plain": [
       "7.7"
      ]
     },
     "execution_count": 401,
     "metadata": {},
     "output_type": "execute_result"
    },
    {
     "data": {
      "image/png": "[encoded data removed]",
      "text/plain": [
       "<Figure size 432x288 with 1 Axes>"
      ]
     },
     "metadata": {
      "needs_background": "light"
     },
     "output_type": "display_data"
    }
   ],
   "source": [
    "sr = serial(len(India[0]))\n",
    "Regression(sr , India[0])"
   ]
  },
  {
   "cell_type": "code",
   "execution_count": 402,
   "metadata": {},
   "outputs": [
    {
     "name": "stdout",
     "output_type": "stream",
     "text": [
      "The parameter of stages are =  [0.1, 10.1, 57.1, 544.7]\n",
      "All stages relation with respect to stage 1 =  [1.0, 100.99999999999999, 571.0, 5447.0]\n"
     ]
    }
   ],
   "source": [
    "print(\"The parameter of stages are = \" , parameter)\n",
    "print(\"All stages relation with respect to stage 1 = \" , relation)"
   ]
  },
  {
   "cell_type": "markdown",
   "metadata": {},
   "source": [
    "###Conclusion for stages calculated with the help of machhine learning\n",
    "####stage1 = stage1\n",
    "####stage2 = 100*stage1\n",
    "####stage3 = 500*stage1\n",
    "####stage4 = 5000*stage1\n",
    "####This is the approximate relation between all stages with respect to stage 1\n",
    "####As stage increases the rate of infection will increase in this manner"
   ]
  },
  {
   "cell_type": "markdown",
   "metadata": {},
   "source": [
    "## Calculating the Levels to find A ∩ B \n",
    "#### Where A is a set of infected person and  B is a set of non infected person"
   ]
  },
  {
   "cell_type": "code",
   "execution_count": 403,
   "metadata": {
    "scrolled": true
   },
   "outputs": [
    {
     "data": {
      "text/plain": [
       "[[0,\n",
       "  0,\n",
       "  1,\n",
       "  1,\n",
       "  0,\n",
       "  0,\n",
       "  0,\n",
       "  0,\n",
       "  0,\n",
       "  0,\n",
       "  0,\n",
       "  0,\n",
       "  0,\n",
       "  0,\n",
       "  0,\n",
       "  0,\n",
       "  0,\n",
       "  0,\n",
       "  0,\n",
       "  0,\n",
       "  0,\n",
       "  0,\n",
       "  0,\n",
       "  0,\n",
       "  0,\n",
       "  0,\n",
       "  0,\n",
       "  0,\n",
       "  0,\n",
       "  0,\n",
       "  0,\n",
       "  2,\n",
       "  1,\n",
       "  22,\n",
       "  2,\n",
       "  1,\n",
       "  3,\n",
       "  5,\n",
       "  9,\n",
       "  15,\n",
       "  8,\n",
       "  10,\n",
       "  10,\n",
       "  11,\n",
       "  10,\n",
       "  14,\n",
       "  20,\n",
       "  25,\n",
       "  27,\n",
       "  58,\n",
       "  78,\n",
       "  69,\n",
       "  94,\n",
       "  74,\n",
       "  86,\n",
       "  73,\n",
       "  153,\n",
       "  136,\n",
       "  120,\n",
       "  187,\n",
       "  309,\n",
       "  424,\n",
       "  486,\n",
       "  559,\n",
       "  579,\n",
       "  605,\n",
       "  489,\n",
       "  573,\n",
       "  565,\n",
       "  813,\n",
       "  871,\n",
       "  854,\n",
       "  623],\n",
       " [0,\n",
       "  0,\n",
       "  0,\n",
       "  0,\n",
       "  0,\n",
       "  0,\n",
       "  0,\n",
       "  0,\n",
       "  0,\n",
       "  0,\n",
       "  0,\n",
       "  0,\n",
       "  0,\n",
       "  1,\n",
       "  0,\n",
       "  0,\n",
       "  1,\n",
       "  0,\n",
       "  0,\n",
       "  0,\n",
       "  1,\n",
       "  0,\n",
       "  0,\n",
       "  0,\n",
       "  0,\n",
       "  0,\n",
       "  0,\n",
       "  0,\n",
       "  0,\n",
       "  0,\n",
       "  0,\n",
       "  0,\n",
       "  0,\n",
       "  0,\n",
       "  0,\n",
       "  0,\n",
       "  0,\n",
       "  0,\n",
       "  0,\n",
       "  1,\n",
       "  0,\n",
       "  0,\n",
       "  6,\n",
       "  0,\n",
       "  3,\n",
       "  1,\n",
       "  1,\n",
       "  0,\n",
       "  5,\n",
       "  3,\n",
       "  0,\n",
       "  0,\n",
       "  2,\n",
       "  15,\n",
       "  3,\n",
       "  7,\n",
       "  25,\n",
       "  10,\n",
       "  17,\n",
       "  35,\n",
       "  13,\n",
       "  19,\n",
       "  22,\n",
       "  39,\n",
       "  56,\n",
       "  43,\n",
       "  65,\n",
       "  75,\n",
       "  96,\n",
       "  70,\n",
       "  151,\n",
       "  186,\n",
       "  89],\n",
       " [0,\n",
       "  0,\n",
       "  0,\n",
       "  0,\n",
       "  0,\n",
       "  0,\n",
       "  0,\n",
       "  0,\n",
       "  0,\n",
       "  0,\n",
       "  0,\n",
       "  0,\n",
       "  0,\n",
       "  0,\n",
       "  0,\n",
       "  0,\n",
       "  0,\n",
       "  0,\n",
       "  0,\n",
       "  0,\n",
       "  0,\n",
       "  0,\n",
       "  0,\n",
       "  0,\n",
       "  0,\n",
       "  0,\n",
       "  0,\n",
       "  0,\n",
       "  0,\n",
       "  0,\n",
       "  0,\n",
       "  0,\n",
       "  0,\n",
       "  0,\n",
       "  0,\n",
       "  0,\n",
       "  0,\n",
       "  0,\n",
       "  0,\n",
       "  0,\n",
       "  0,\n",
       "  1,\n",
       "  0,\n",
       "  1,\n",
       "  0,\n",
       "  0,\n",
       "  1,\n",
       "  0,\n",
       "  1,\n",
       "  0,\n",
       "  0,\n",
       "  3,\n",
       "  2,\n",
       "  1,\n",
       "  1,\n",
       "  5,\n",
       "  3,\n",
       "  5,\n",
       "  3,\n",
       "  16,\n",
       "  6,\n",
       "  7,\n",
       "  16,\n",
       "  14,\n",
       "  13,\n",
       "  22,\n",
       "  16,\n",
       "  27,\n",
       "  20,\n",
       "  46,\n",
       "  22,\n",
       "  40,\n",
       "  14]]"
      ]
     },
     "execution_count": 403,
     "metadata": {},
     "output_type": "execute_result"
    }
   ],
   "source": [
    "dif"
   ]
  },
  {
   "cell_type": "code",
   "execution_count": 404,
   "metadata": {},
   "outputs": [],
   "source": [
    "st_dif1 = dif[0][0:len(stage1)]\n",
    "st_dif2 = dif[0][len(stage1):len(stage1)+len(stage2)]\n",
    "st_dif3 = dif[0][len(stage2):len(stage1)+len(stage2)+len(stage3)]\n",
    "st_dif4 = dif[0][len(stage3):len(stage1)+len(stage2)+len(stage3)+len(stage4)]"
   ]
  },
  {
   "cell_type": "code",
   "execution_count": 411,
   "metadata": {},
   "outputs": [],
   "source": [
    "parameter1=[]\n",
    "st_dif = [st_dif1,st_dif2,st_dif3,st_dif4]"
   ]
  },
  {
   "cell_type": "code",
   "execution_count": 412,
   "metadata": {},
   "outputs": [
    {
     "data": {
      "image/png": "[encoded data removed]",
      "text/plain": [
       "<Figure size 432x288 with 1 Axes>"
      ]
     },
     "metadata": {
      "needs_background": "light"
     },
     "output_type": "display_data"
    }
   ],
   "source": [
    "sr = serial(len(st_dif[0]))\n",
    "parameter1.append(Regression(sr,st_dif[0]))"
   ]
  },
  {
   "cell_type": "code",
   "execution_count": 413,
   "metadata": {},
   "outputs": [
    {
     "data": {
      "image/png": "[encoded data removed]",
      "text/plain": [
       "<Figure size 432x288 with 1 Axes>"
      ]
     },
     "metadata": {
      "needs_background": "light"
     },
     "output_type": "display_data"
    }
   ],
   "source": [
    "sr = serial(len(st_dif[1]))\n",
    "parameter1.append(Regression(sr,st_dif[1]))"
   ]
  },
  {
   "cell_type": "code",
   "execution_count": 414,
   "metadata": {},
   "outputs": [
    {
     "data": {
      "image/png": "[encoded data removed]",
      "text/plain": [
       "<Figure size 432x288 with 1 Axes>"
      ]
     },
     "metadata": {
      "needs_background": "light"
     },
     "output_type": "display_data"
    }
   ],
   "source": [
    "sr = serial(len(st_dif[2]))\n",
    "parameter1.append(Regression(sr,st_dif[2]))"
   ]
  },
  {
   "cell_type": "code",
   "execution_count": 415,
   "metadata": {},
   "outputs": [
    {
     "data": {
      "image/png": "[encoded data removed]",
      "text/plain": [
       "<Figure size 432x288 with 1 Axes>"
      ]
     },
     "metadata": {
      "needs_background": "light"
     },
     "output_type": "display_data"
    }
   ],
   "source": [
    "sr = serial(len(st_dif[3]))\n",
    "parameter1.append(Regression(sr,st_dif[3]))"
   ]
  },
  {
   "cell_type": "code",
   "execution_count": 417,
   "metadata": {},
   "outputs": [
    {
     "data": {
      "text/plain": [
       "[0.0, 1.4, 0.4, 2.5]"
      ]
     },
     "execution_count": 417,
     "metadata": {},
     "output_type": "execute_result"
    }
   ],
   "source": [
    "parameter1"
   ]
  },
  {
   "cell_type": "markdown",
   "metadata": {},
   "source": [
    "####In terms of levels the 3rd index is less because of Lockdown. i am purposefully printing dif2 and dif3 so that difference can be seen \n",
    "####After that it increases because of illegal gatherings "
   ]
  },
  {
   "cell_type": "code",
   "execution_count": 422,
   "metadata": {},
   "outputs": [
    {
     "data": {
      "text/plain": [
       "[2, 1, 3, 5, 9, 15, 8, 10, 10, 11]"
      ]
     },
     "execution_count": 422,
     "metadata": {},
     "output_type": "execute_result"
    }
   ],
   "source": [
    "st_dif2"
   ]
  },
  {
   "cell_type": "code",
   "execution_count": 421,
   "metadata": {
    "scrolled": true
   },
   "outputs": [
    {
     "data": {
      "text/plain": [
       "[0,\n",
       " 0,\n",
       " 0,\n",
       " 0,\n",
       " 0,\n",
       " 0,\n",
       " 0,\n",
       " 0,\n",
       " 0,\n",
       " 0,\n",
       " 0,\n",
       " 0,\n",
       " 0,\n",
       " 0,\n",
       " 0,\n",
       " 0,\n",
       " 0,\n",
       " 0,\n",
       " 0,\n",
       " 0,\n",
       " 0,\n",
       " 2,\n",
       " 1,\n",
       " 22,\n",
       " 2,\n",
       " 1,\n",
       " 3,\n",
       " 5,\n",
       " 9,\n",
       " 15,\n",
       " 8,\n",
       " 10,\n",
       " 10,\n",
       " 11,\n",
       " 10,\n",
       " 14,\n",
       " 20,\n",
       " 25,\n",
       " 27,\n",
       " 58,\n",
       " 78,\n",
       " 69,\n",
       " 94,\n",
       " 74,\n",
       " 86,\n",
       " 73,\n",
       " 153,\n",
       " 136]"
      ]
     },
     "execution_count": 421,
     "metadata": {},
     "output_type": "execute_result"
    }
   ],
   "source": [
    "st_dif3"
   ]
  },
  {
   "cell_type": "markdown",
   "metadata": {},
   "source": [
    "####As Level 1 is 0 hence making relations with level2"
   ]
  },
  {
   "cell_type": "code",
   "execution_count": 429,
   "metadata": {},
   "outputs": [],
   "source": [
    "relation1 = [0.0]\n",
    "for i in range(4):\n",
    "    relation1.append(parameter[i]/parameter[1])"
   ]
  },
  {
   "cell_type": "code",
   "execution_count": 438,
   "metadata": {},
   "outputs": [
    {
     "data": {
      "text/plain": [
       "[0.0, 1.0, 5.653465346534654, 53.93069306930694]"
      ]
     },
     "execution_count": 438,
     "metadata": {},
     "output_type": "execute_result"
    }
   ],
   "source": [
    "relation1"
   ]
  },
  {
   "cell_type": "markdown",
   "metadata": {},
   "source": [
    "####Conclusions for Levels\n",
    "####Level1 = 0\n",
    "####Level2 = Level2\n",
    "####Level3 = 5*Level2\n",
    "####Level4 = 50*Level2\n",
    "####This concepts is similar as for stages"
   ]
  },
  {
   "cell_type": "code",
   "execution_count": null,
   "metadata": {},
   "outputs": [],
   "source": []
  }
 ],
 "metadata": {
  "kernelspec": {
   "display_name": "Python 3",
   "language": "python",
   "name": "python3"
  },
  "language_info": {
   "codemirror_mode": {
    "name": "ipython",
    "version": 3
   },
   "file_extension": ".py",
   "mimetype": "text/x-python",
   "name": "python",
   "nbconvert_exporter": "python",
   "pygments_lexer": "ipython3",
   "version": "3.7.6"
  }
 },
 "nbformat": 4,
 "nbformat_minor": 4
}
